{
  "nbformat": 4,
  "nbformat_minor": 0,
  "metadata": {
    "colab": {
      "provenance": [],
      "authorship_tag": "ABX9TyOLEvfvXV9g0VSXBZmS8kDx",
      "include_colab_link": true
    },
    "kernelspec": {
      "name": "python3",
      "display_name": "Python 3"
    },
    "language_info": {
      "name": "python"
    }
  },
  "cells": [
    {
      "cell_type": "markdown",
      "metadata": {
        "id": "view-in-github",
        "colab_type": "text"
      },
      "source": [
        "<a href=\"https://colab.research.google.com/github/andrew6072/mephi-numerical-methods/blob/main/7sem_lab4.ipynb\" target=\"_parent\"><img src=\"https://colab.research.google.com/assets/colab-badge.svg\" alt=\"Open In Colab\"/></a>"
      ]
    },
    {
      "cell_type": "code",
      "execution_count": 15,
      "metadata": {
        "id": "urHaxvXmirOV"
      },
      "outputs": [],
      "source": [
        "import numpy as np\n",
        "import matplotlib.pyplot as plt\n",
        "import scipy as sp\n",
        "from scipy.sparse import csr_matrix"
      ]
    },
    {
      "cell_type": "markdown",
      "source": [
        "$$\n",
        "u(x,y) = 5(-3x+4y)cos(5x+2y)+3y^2\\\\\n",
        "0 \\leq x \\leq \\sqrt2,\\\\\n",
        "0 \\leq y \\leq 1\\\\\n",
        "$$\n",
        "\n",
        "$$\n",
        "u_{xx} = 150sin(5x+2y)+(375x-500y)cos(5x+2y)\\\\\n",
        "u_{yy} = -80sin(5x+2y)+(60x-80y)cos(5x+2y)+6\\\\\n",
        "f(x,y) = u_{xx} + u_{yy} = 70sin(5x+2y)+(435x-580y)cos(5x+2y)+6\\\\\n",
        "$$\n",
        "\n",
        "*Boundaries:*\n",
        "$$\n",
        "\\begin{cases}\n",
        "u(0, y) = \\phi_1(y)= 20y cos(2y)+3y^2\n",
        "\\\\\n",
        "u(\\sqrt2, y) = \\phi_2(y) = (-15\\sqrt2+20y)cos(5\\sqrt2+2y)+3y^2\n",
        "\\\\\n",
        "u(x, 0) = \\psi_1(x) = -15xcos(5x)\n",
        "\\\\\n",
        "u(x, 1) = \\psi_2(x) = (-15x+20)cos(5x+2)+3\n",
        "\\end{cases}\n",
        "$$"
      ],
      "metadata": {
        "id": "PZLTmIR43gJV"
      }
    },
    {
      "cell_type": "code",
      "source": [
        "import numpy as np\n",
        "\n",
        "xmin = 0\n",
        "xmax = 1.41\n",
        "ymin = 0\n",
        "ymax = 1\n",
        "h = 0.01\n",
        "tau = h**2 / 4\n",
        "\n",
        "def f(x, y):\n",
        "    return 70 * np.sin(5 * x + 2 * y) + (435 * x - 580 * y) * np.cos(5 * x + 2 * y) + 6\n",
        "\n",
        "\n",
        "def phi1(y):\n",
        "    return 5 * (-3 * xmin + 4 * y) * np.cos(5 * xmin + 2 * y) + 3 * y ** 2\n",
        "\n",
        "\n",
        "def phi2(y):\n",
        "    return 5 * (-3 * xmax + 4 * y) * np.cos(5 * xmax + 2 * y) + 3 * y ** 2\n",
        "\n",
        "\n",
        "def psi1(x):\n",
        "    return 5 * (-3 * x + 4 * ymin) * np.cos(5 * x + 2 * ymin) + 3 * ymin ** 2\n",
        "\n",
        "\n",
        "def psi2(x):\n",
        "    return 5 * (-3 * x + 4 * ymax) * np.cos(5 * x + 2 * ymax) + 3 * ymax ** 2\n",
        "\n",
        "\n",
        "def solution(x, y):\n",
        "    return 5 * (-3 * x + 4 * y) * np.cos(5 * x + 2 * y) + 3 * y ** 2\n",
        "\n",
        "\n",
        "x = np.arange(xmin, xmax + h, h)\n",
        "y = np.arange(ymin, ymax + h, h)\n",
        "\n",
        "analytical_solution = np.zeros((len(y), len(x)))\n",
        "for i, y_ in enumerate(y):\n",
        "    for j, x_ in enumerate(x):\n",
        "        analytical_solution[i][j] = solution(x_, y_)\n",
        "\n",
        "\n",
        "# numerical_solution = np.zeros((len(y), len(x)))\n",
        "# numerical_solution[0, :] = psi1(x)\n",
        "# numerical_solution[len(y)-1, :] = psi2(x)\n",
        "# numerical_solution[:, 0] = phi1(y)\n",
        "# numerical_solution[:, len(x)-1] = phi2(y)\n",
        "\n",
        "def simple_iteration(x, y, h, tau, num_iteration):\n",
        "    sol = np.zeros((len(y), len(x)))\n",
        "    sol[0, :] = psi1(x)\n",
        "    sol[len(y) - 1, :] = psi2(x)\n",
        "    sol[:, 0] = phi1(y)\n",
        "    sol[:, len(x) - 1] = phi2(y)\n",
        "    new_sol = np.copy(sol)\n",
        "    nx = len(x)\n",
        "    ny = len(y)\n",
        "    for _ in range(num_iteration):\n",
        "        for i in range(1, ny - 1):\n",
        "            for j in range(1, nx - 1):\n",
        "                new_sol[i, j] = sol[i, j] + tau * ( (sol[i+1, j] - 2 * sol[i, j] + sol[i-1, j]) / h**2 +\n",
        "                                                    (sol[i, j+1] - 2 * sol[i, j] + sol[i, j-1]) / h**2 - f(x[j], y[i]))\n",
        "        sol = np.copy(new_sol)\n",
        "    return sol"
      ],
      "metadata": {
        "id": "WkH7aTRU3D6O"
      },
      "execution_count": 16,
      "outputs": []
    },
    {
      "cell_type": "code",
      "source": [
        "numerical_solution = simple_iteration(x, y, h, tau, 10000)\n",
        "print(np.linalg.norm(analytical_solution[0, :] - numerical_solution[0, :]))\n",
        "print(np.linalg.norm(analytical_solution[len(y)-1, :] - numerical_solution[len(y)-1, :]))\n",
        "print(np.linalg.norm(analytical_solution[:, 0] - numerical_solution[:, 0]))\n",
        "print(np.linalg.norm(analytical_solution[:, len(x)-1] - numerical_solution[:, len(x)-1]))"
      ],
      "metadata": {
        "colab": {
          "base_uri": "https://localhost:8080/"
        },
        "id": "PLSfDMmua2mq",
        "outputId": "3a13c085-7897-4bc5-d2da-a04909075843"
      },
      "execution_count": 17,
      "outputs": [
        {
          "output_type": "stream",
          "name": "stdout",
          "text": [
            "0.0\n",
            "0.0\n",
            "0.0\n",
            "0.0\n"
          ]
        }
      ]
    },
    {
      "cell_type": "code",
      "source": [
        "print(\"Error: \", np.linalg.norm(analytical_solution - numerical_solution))"
      ],
      "metadata": {
        "colab": {
          "base_uri": "https://localhost:8080/"
        },
        "id": "_fvjzdZlbBhC",
        "outputId": "46c3f01d-0114-4deb-9cdc-db7e805164f8"
      },
      "execution_count": 18,
      "outputs": [
        {
          "output_type": "stream",
          "name": "stdout",
          "text": [
            "Error:  2.5975194370394648\n"
          ]
        }
      ]
    },
    {
      "cell_type": "code",
      "source": [
        "num_iteration = 100\n",
        "numerical_solution = simple_iteration(x, y, h, tau, num_iteration)\n",
        "print(f\"Error after {num_iteration:.0e} iterations: {np.linalg.norm(analytical_solution - numerical_solution):.2e}\")"
      ],
      "metadata": {
        "colab": {
          "base_uri": "https://localhost:8080/"
        },
        "id": "jeBJe0u0fY9D",
        "outputId": "289f1a0b-39eb-4c4e-ee46-6d832b8db0f2"
      },
      "execution_count": 24,
      "outputs": [
        {
          "output_type": "stream",
          "name": "stdout",
          "text": [
            "Error after 1e+02 iterations: 4.93e+02\n"
          ]
        }
      ]
    },
    {
      "cell_type": "code",
      "source": [
        "num_iteration = 1000\n",
        "numerical_solution = simple_iteration(x, y, h, tau, num_iteration)\n",
        "print(f\"Error after {num_iteration:.0e} iterations: {np.linalg.norm(analytical_solution - numerical_solution):.2e}\")"
      ],
      "metadata": {
        "colab": {
          "base_uri": "https://localhost:8080/"
        },
        "id": "U_xuqkLWfuM-",
        "outputId": "a7b6a3f1-2bfe-480e-fc15-862dca42d83d"
      },
      "execution_count": 25,
      "outputs": [
        {
          "output_type": "stream",
          "name": "stdout",
          "text": [
            "Error after 1e+03 iterations: 1.37e+02\n"
          ]
        }
      ]
    },
    {
      "cell_type": "code",
      "source": [
        "num_iteration = 100000\n",
        "numerical_solution = simple_iteration(x, y, h, tau, num_iteration)\n",
        "print(f\"Error after {num_iteration:.0e} iterations: {np.linalg.norm(analytical_solution - numerical_solution):.2e}\")"
      ],
      "metadata": {
        "colab": {
          "base_uri": "https://localhost:8080/"
        },
        "id": "YaIqfhXqhAlb",
        "outputId": "fa145156-d432-4598-e00f-d4a96531fc7d"
      },
      "execution_count": 26,
      "outputs": [
        {
          "output_type": "stream",
          "name": "stdout",
          "text": [
            "Error after 1e+05 iterations: 9.87e-02\n"
          ]
        }
      ]
    }
  ]
}