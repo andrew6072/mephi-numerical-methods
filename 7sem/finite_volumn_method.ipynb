{
  "cells": [
    {
      "cell_type": "markdown",
      "metadata": {
        "id": "PZLTmIR43gJV"
      },
      "source": [
        "$$\n",
        "u(x,y) = 5(-2x+3y)cos(3x+2y)+3y^2\\\\\n",
        "0 \\leq x \\leq 1,\\\\\n",
        "0 \\leq y \\leq 1\\\\\n",
        "$$\n",
        "\n",
        "$$\n",
        "u_{xx} = 45 (2 x - 3 y) cos(3 x + 2 y) + 60 sin(3 x + 2 y)\\\\\n",
        "u_{yy} = 6 + 20 (2 x - 3 y) cos(3 x + 2 y) - 60 sin(3 x + 2 y)\\\\\n",
        "f(x,y) = u_{xx} + u_{yy} = 6 + 65 (2 x - 3 y) cos(3 x + 2 y)\\\\\n",
        "$$\n",
        "\n",
        "_Boundaries:_\n",
        "\n",
        "$$\n",
        "\\begin{cases}\n",
        "-u_y(0, y) = \\phi_B(y) = -15 cos(2 y) + 6 y (-1 + 5 sin(2 y))\n",
        "\\\\\n",
        "u_y(1, y) = \\phi_T(y) = 6 y + 15 cos(3 + 2 y) + (20 - 30 y) sin(3 + 2 y)\n",
        "\\\\\n",
        "-u_x(x, 0) = \\phi_L(x) = 10 (cos(3 x) - 3 x sin(3 x))\n",
        "\\\\\n",
        "u_x(x, 1) = \\phi_R(x) = -10 cos(2 + 3 x) + 15 (-3 + 2 x) sin(2 + 3 x)\n",
        "\\end{cases}\n",
        "$$\n"
      ]
    },
    {
      "cell_type": "code",
      "execution_count": 331,
      "metadata": {
        "id": "ycsTMw7cKXU5"
      },
      "outputs": [],
      "source": [
        "import numpy as np\n",
        "from scipy.integrate import dblquad"
      ]
    },
    {
      "cell_type": "code",
      "execution_count": 332,
      "metadata": {
        "id": "LQ7t6kR0K7TW"
      },
      "outputs": [
        {
          "name": "stdout",
          "output_type": "stream",
          "text": [
            "3\n"
          ]
        },
        {
          "data": {
            "text/plain": [
              "(4, 4)"
            ]
          },
          "execution_count": 332,
          "metadata": {},
          "output_type": "execute_result"
        }
      ],
      "source": [
        "def sol(x, y):\n",
        "    return 5*(-2*x+3*y)*np.cos(3*x+2*y)+3*y**2\n",
        "\n",
        "\n",
        "def f(x, y):\n",
        "    return 6 + 65*(2*x - 3*y)*np.cos(3*x + 2*y)\n",
        "\n",
        "\n",
        "def phi_B(y):\n",
        "    return -15*np.cos(2*y) + 6*y*(-1 + 5*np.sin(2*y))\n",
        "\n",
        "\n",
        "def phi_T(y):\n",
        "    return 6*y + 15*np.cos(3 + 2*y) + (20 - 30*y)*np.sin(3 + 2*y)\n",
        "\n",
        "\n",
        "def phi_L(x):\n",
        "    return 10*(np.cos(3*x) - 3*x*np.sin(3*x))\n",
        "\n",
        "\n",
        "def phi_R(x):\n",
        "    return -10*np.cos(2 + 3*x) + 15*(-3 + 2*x)*np.sin(2 + 3*x)\n",
        "\n",
        "\n",
        "xmax = 1\n",
        "ymax = 1\n",
        "xmin = 0\n",
        "ymin = 0\n",
        "\n",
        "dx = 0.5\n",
        "dy = 0.5\n",
        "\n",
        "x = np.arange(xmin, xmax + dx, dx)\n",
        "y = np.arange(ymin, ymax + dy, dy)\n",
        "print(len(x))\n",
        "\n",
        "# Matrix for Finite Volumn Method\n",
        "A = np.zeros(((len(x)-1) * (len(y)-1), (len(x)-1) * (len(y)-1)))\n",
        "A.shape"
      ]
    },
    {
      "cell_type": "code",
      "execution_count": 333,
      "metadata": {},
      "outputs": [],
      "source": [
        "class Cell:\n",
        "    def __init__(self, P, E, W, N, S):\n",
        "        self.P = P\n",
        "        self.E = E\n",
        "        self.W = W\n",
        "        self.N = N\n",
        "        self.S = S\n",
        "\n",
        "    def __repr__(self) -> str:\n",
        "        return f\"(P: {self.P:.2e}, E: {self.E:.2e}, W: {self.W:.2e}, N: {self.N:.2e}, S: {self.S:.2e})\""
      ]
    },
    {
      "cell_type": "code",
      "execution_count": 334,
      "metadata": {},
      "outputs": [],
      "source": [
        "def get_pos(n, i, j):\n",
        "    return n * (i - 1) + j - 1\n",
        "\n",
        "\n",
        "def create_matrix(xmin, ymin, xmax, ymax, dx, dy, f, phi_B, phi_L, phi_R, phi_T):\n",
        "    x = np.arange(xmin, xmax + dx, dx)\n",
        "    y = np.arange(ymin, ymax + dy, dy)\n",
        "    n = len(x) - 1  # minus 1 because we are considering cells, not points\n",
        "    A = np.zeros(((len(x)-1) * (len(y)-1), (len(x)-1) * (len(y)-1)))\n",
        "    B = np.zeros((len(x)-1) * (len(y)-1))\n",
        "    for i in range(1, n+1):\n",
        "        for j in range(1, n+1):\n",
        "            B[get_pos(n, i, j)] = dblquad(\n",
        "                f, x[i-1], x[i-1]+dx, y[j-1], y[j-1]+dy)[0]\n",
        "\n",
        "    for i in range(n**2-n):\n",
        "        A[i, i+n] = dx/dy\n",
        "        A[i+n, i] = dx/dy\n",
        "\n",
        "    # first row\n",
        "    A[0, 0] = A[n-1, n-1] = -dy/dx - dx/dy\n",
        "    B[0] += -dy*phi_L(x[0]+dx/2) - dx*phi_B(y[0]+dy/2)\n",
        "    B[n-1] += -dy*phi_R(x[n]+dx/2) - dx*phi_B(y[0]+dy/2)\n",
        "    for i in range(n-1):\n",
        "        if i > 0:\n",
        "            A[i, i] = -2*dy/dx - dx/dy\n",
        "            B[i] += -dx*phi_B(y[0]+dy/2)\n",
        "        A[i+1, i] = A[i, i+1] = dy/dx\n",
        "\n",
        "    # middle rows\n",
        "    for i in range(2, n):\n",
        "        first_cell_pos = get_pos(n, i, 1)\n",
        "        last_cell_pos = get_pos(n, i, n)\n",
        "        B[first_cell_pos] += -dy*phi_L(x[0]+dx/2)\n",
        "        B[last_cell_pos] += -dy*phi_R(x[n]+dx/2)\n",
        "        A[first_cell_pos, first_cell_pos] = A[last_cell_pos,\n",
        "                                              last_cell_pos] = -dy/dx - 2*dx/dy\n",
        "        for j in range(first_cell_pos, last_cell_pos):\n",
        "            if j > first_cell_pos:\n",
        "                A[j, j] = -2*(dx/dy+dy/dx)\n",
        "            A[j+1, j] = A[j, j+1] = dy/dx\n",
        "\n",
        "    # last row\n",
        "    B[get_pos(n, n, 1)] += -dx*phi_T(y[n]+dy/2) - dy*phi_L(x[0]+dx/2)\n",
        "    B[get_pos(n, n, n)] += -dx*phi_T(y[n]+dy/2) - dy*phi_R(x[n]+dx/2)\n",
        "    A[n*(n-1), n*(n-1)] = A[n**2-1, n**2-1] = -dy/dx - dx/dy\n",
        "    for i in range(n*(n-1), n*n-1):\n",
        "        if i > n*(n-1):\n",
        "            A[i, i] = -2*dy/dx - dx/dy\n",
        "            B[i] += dx*phi_T(y[n]+dy/2)\n",
        "        A[i+1, i] = A[i, i+1] = dy/dx\n",
        "    return A, B"
      ]
    },
    {
      "cell_type": "code",
      "execution_count": 335,
      "metadata": {
        "id": "7kN420gd8bZa"
      },
      "outputs": [
        {
          "name": "stdout",
          "output_type": "stream",
          "text": [
            "[[-2.  1.  1.  0.]\n",
            " [ 1. -2.  0.  1.]\n",
            " [ 1.  0. -2.  1.]\n",
            " [ 0.  1.  1. -2.]]\n",
            "[ 4.77750635 -0.39816532  0.69550613 -2.60073728]\n"
          ]
        }
      ],
      "source": [
        "A, B = create_matrix(xmin, ymin, xmax, ymax, dx, dy,\n",
        "                     f, phi_B, phi_L, phi_R, phi_T)\n",
        "# np.savetxt('matrix_A.txt', A, fmt='%.1f')\n",
        "# np.savetxt('matrix_B.txt', B, fmt='%.2f')\n",
        "print(A)\n",
        "print(B)"
      ]
    },
    {
      "cell_type": "code",
      "execution_count": 336,
      "metadata": {},
      "outputs": [
        {
          "name": "stdout",
          "output_type": "stream",
          "text": [
            "4.4569601385558616e+16\n",
            "[[-1.11424003e+16]\n",
            " [-1.11424003e+16]\n",
            " [-1.11424003e+16]\n",
            " [-1.11424003e+16]]\n"
          ]
        }
      ],
      "source": [
        "u = np.linalg.solve(A, B.reshape(-1, 1))\n",
        "\n",
        "n = len(x)-1\n",
        "u0 = np.zeros(n**2)\n",
        "for i in range(1, n+1):\n",
        "    for j in range(1, n+1):\n",
        "        u0[get_pos(n, i, j)] = sol(x[i]+dx/2, y[j]+dy/2)\n",
        "print(np.linalg.norm(u-u0))\n",
        "print(u)"
      ]
    }
  ],
  "metadata": {
    "accelerator": "GPU",
    "colab": {
      "gpuType": "T4",
      "provenance": []
    },
    "kernelspec": {
      "display_name": "Python 3",
      "name": "python3"
    },
    "language_info": {
      "codemirror_mode": {
        "name": "ipython",
        "version": 3
      },
      "file_extension": ".py",
      "mimetype": "text/x-python",
      "name": "python",
      "nbconvert_exporter": "python",
      "pygments_lexer": "ipython3",
      "version": "3.11.5"
    }
  },
  "nbformat": 4,
  "nbformat_minor": 0
}
