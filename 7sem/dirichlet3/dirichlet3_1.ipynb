{
 "cells": [
  {
   "cell_type": "code",
   "execution_count": 28,
   "metadata": {},
   "outputs": [],
   "source": [
    "import numpy as np\n",
    "import matplotlib.pyplot as plt\n",
    "import scipy.sparse as sp\n",
    "import scipy.sparse.linalg\n",
    "import time\n",
    "\n",
    "\n",
    "# Размеры области\n",
    "xmin, xmax = 0.0, 1.0\n",
    "ymin, ymax = 0.0, 1.0\n",
    "\n",
    "# Точное решение\n",
    "\n",
    "\n",
    "def u_exact(x, y):\n",
    "    return np.sin(7.0*x - 3.0*y) + 2.0*np.cos(2.0*x + 6.0*y)"
   ]
  },
  {
   "cell_type": "code",
   "execution_count": 29,
   "metadata": {},
   "outputs": [
    {
     "ename": "TypeError",
     "evalue": "'float' object cannot be interpreted as an integer",
     "output_type": "error",
     "traceback": [
      "\u001b[0;31m---------------------------------------------------------------------------\u001b[0m",
      "\u001b[0;31mTypeError\u001b[0m                                 Traceback (most recent call last)",
      "Cell \u001b[0;32mIn[29], line 10\u001b[0m\n\u001b[1;32m      6\u001b[0m \u001b[38;5;28;01mdef\u001b[39;00m \u001b[38;5;21mdirac_delta_approx\u001b[39m(x, mean\u001b[38;5;241m=\u001b[39mMEAN, sigma\u001b[38;5;241m=\u001b[39mSIGMA):\n\u001b[1;32m      7\u001b[0m     \u001b[38;5;28;01mreturn\u001b[39;00m \u001b[38;5;241m1\u001b[39m \u001b[38;5;241m/\u001b[39m (np\u001b[38;5;241m.\u001b[39msqrt(\u001b[38;5;241m2\u001b[39m \u001b[38;5;241m*\u001b[39m np\u001b[38;5;241m.\u001b[39mpi) \u001b[38;5;241m*\u001b[39m sigma) \u001b[38;5;241m*\u001b[39m np\u001b[38;5;241m.\u001b[39mexp(\u001b[38;5;241m-\u001b[39m(x\u001b[38;5;241m-\u001b[39mmean)\u001b[38;5;241m*\u001b[39m\u001b[38;5;241m*\u001b[39m\u001b[38;5;241m2\u001b[39m \u001b[38;5;241m/\u001b[39m (\u001b[38;5;241m2\u001b[39m \u001b[38;5;241m*\u001b[39m sigma\u001b[38;5;241m*\u001b[39m\u001b[38;5;241m*\u001b[39m\u001b[38;5;241m2\u001b[39m))\n\u001b[0;32m---> 10\u001b[0m \u001b[38;5;28;01mdef\u001b[39;00m \u001b[38;5;21mdirac_delta_ring\u001b[39m(x, y, x0\u001b[38;5;241m=\u001b[39mxmax\u001b[38;5;241m*\u001b[39m\u001b[38;5;241m0.5\u001b[39m, y0\u001b[38;5;241m=\u001b[39mymax\u001b[38;5;241m*\u001b[39m\u001b[38;5;241m0.5\u001b[39m, r0\u001b[38;5;241m=\u001b[39m\u001b[43mnp\u001b[49m\u001b[38;5;241;43m.\u001b[39;49m\u001b[43mmin\u001b[49m\u001b[43m(\u001b[49m\u001b[43mxmax\u001b[49m\u001b[43m,\u001b[49m\u001b[43m \u001b[49m\u001b[43mymax\u001b[49m\u001b[43m)\u001b[49m\u001b[38;5;241m*\u001b[39m\u001b[38;5;241m0.25\u001b[39m):\n\u001b[1;32m     11\u001b[0m     \u001b[38;5;28;01mreturn\u001b[39;00m dirac_delta_approx((x\u001b[38;5;241m-\u001b[39mx0)\u001b[38;5;241m*\u001b[39m\u001b[38;5;241m*\u001b[39m\u001b[38;5;241m2\u001b[39m \u001b[38;5;241m+\u001b[39m (y\u001b[38;5;241m-\u001b[39my0)\u001b[38;5;241m*\u001b[39m\u001b[38;5;241m*\u001b[39m\u001b[38;5;241m2\u001b[39m \u001b[38;5;241m-\u001b[39m r0\u001b[38;5;241m*\u001b[39m\u001b[38;5;241m*\u001b[39m\u001b[38;5;241m2\u001b[39m)\n\u001b[1;32m     14\u001b[0m \u001b[38;5;66;03m# Plot dirac ring function\u001b[39;00m\n",
      "File \u001b[0;32m<__array_function__ internals>:200\u001b[0m, in \u001b[0;36mamin\u001b[0;34m(*args, **kwargs)\u001b[0m\n",
      "File \u001b[0;32m~/cmpt688/mephi-numerical-methods/.venv/lib/python3.8/site-packages/numpy/core/fromnumeric.py:2946\u001b[0m, in \u001b[0;36mamin\u001b[0;34m(a, axis, out, keepdims, initial, where)\u001b[0m\n\u001b[1;32m   2829\u001b[0m \u001b[38;5;129m@array_function_dispatch\u001b[39m(_amin_dispatcher)\n\u001b[1;32m   2830\u001b[0m \u001b[38;5;28;01mdef\u001b[39;00m \u001b[38;5;21mamin\u001b[39m(a, axis\u001b[38;5;241m=\u001b[39m\u001b[38;5;28;01mNone\u001b[39;00m, out\u001b[38;5;241m=\u001b[39m\u001b[38;5;28;01mNone\u001b[39;00m, keepdims\u001b[38;5;241m=\u001b[39mnp\u001b[38;5;241m.\u001b[39m_NoValue, initial\u001b[38;5;241m=\u001b[39mnp\u001b[38;5;241m.\u001b[39m_NoValue,\n\u001b[1;32m   2831\u001b[0m          where\u001b[38;5;241m=\u001b[39mnp\u001b[38;5;241m.\u001b[39m_NoValue):\n\u001b[1;32m   2832\u001b[0m \u001b[38;5;250m    \u001b[39m\u001b[38;5;124;03m\"\"\"\u001b[39;00m\n\u001b[1;32m   2833\u001b[0m \u001b[38;5;124;03m    Return the minimum of an array or minimum along an axis.\u001b[39;00m\n\u001b[1;32m   2834\u001b[0m \n\u001b[0;32m   (...)\u001b[0m\n\u001b[1;32m   2944\u001b[0m \u001b[38;5;124;03m    6\u001b[39;00m\n\u001b[1;32m   2945\u001b[0m \u001b[38;5;124;03m    \"\"\"\u001b[39;00m\n\u001b[0;32m-> 2946\u001b[0m     \u001b[38;5;28;01mreturn\u001b[39;00m \u001b[43m_wrapreduction\u001b[49m\u001b[43m(\u001b[49m\u001b[43ma\u001b[49m\u001b[43m,\u001b[49m\u001b[43m \u001b[49m\u001b[43mnp\u001b[49m\u001b[38;5;241;43m.\u001b[39;49m\u001b[43mminimum\u001b[49m\u001b[43m,\u001b[49m\u001b[43m \u001b[49m\u001b[38;5;124;43m'\u001b[39;49m\u001b[38;5;124;43mmin\u001b[39;49m\u001b[38;5;124;43m'\u001b[39;49m\u001b[43m,\u001b[49m\u001b[43m \u001b[49m\u001b[43maxis\u001b[49m\u001b[43m,\u001b[49m\u001b[43m \u001b[49m\u001b[38;5;28;43;01mNone\u001b[39;49;00m\u001b[43m,\u001b[49m\u001b[43m \u001b[49m\u001b[43mout\u001b[49m\u001b[43m,\u001b[49m\n\u001b[1;32m   2947\u001b[0m \u001b[43m                          \u001b[49m\u001b[43mkeepdims\u001b[49m\u001b[38;5;241;43m=\u001b[39;49m\u001b[43mkeepdims\u001b[49m\u001b[43m,\u001b[49m\u001b[43m \u001b[49m\u001b[43minitial\u001b[49m\u001b[38;5;241;43m=\u001b[39;49m\u001b[43minitial\u001b[49m\u001b[43m,\u001b[49m\u001b[43m \u001b[49m\u001b[43mwhere\u001b[49m\u001b[38;5;241;43m=\u001b[39;49m\u001b[43mwhere\u001b[49m\u001b[43m)\u001b[49m\n",
      "File \u001b[0;32m~/cmpt688/mephi-numerical-methods/.venv/lib/python3.8/site-packages/numpy/core/fromnumeric.py:86\u001b[0m, in \u001b[0;36m_wrapreduction\u001b[0;34m(obj, ufunc, method, axis, dtype, out, **kwargs)\u001b[0m\n\u001b[1;32m     83\u001b[0m         \u001b[38;5;28;01melse\u001b[39;00m:\n\u001b[1;32m     84\u001b[0m             \u001b[38;5;28;01mreturn\u001b[39;00m reduction(axis\u001b[38;5;241m=\u001b[39maxis, out\u001b[38;5;241m=\u001b[39mout, \u001b[38;5;241m*\u001b[39m\u001b[38;5;241m*\u001b[39mpasskwargs)\n\u001b[0;32m---> 86\u001b[0m \u001b[38;5;28;01mreturn\u001b[39;00m \u001b[43mufunc\u001b[49m\u001b[38;5;241;43m.\u001b[39;49m\u001b[43mreduce\u001b[49m\u001b[43m(\u001b[49m\u001b[43mobj\u001b[49m\u001b[43m,\u001b[49m\u001b[43m \u001b[49m\u001b[43maxis\u001b[49m\u001b[43m,\u001b[49m\u001b[43m \u001b[49m\u001b[43mdtype\u001b[49m\u001b[43m,\u001b[49m\u001b[43m \u001b[49m\u001b[43mout\u001b[49m\u001b[43m,\u001b[49m\u001b[43m \u001b[49m\u001b[38;5;241;43m*\u001b[39;49m\u001b[38;5;241;43m*\u001b[39;49m\u001b[43mpasskwargs\u001b[49m\u001b[43m)\u001b[49m\n",
      "\u001b[0;31mTypeError\u001b[0m: 'float' object cannot be interpreted as an integer"
     ]
    }
   ],
   "source": [
    "# Define Delta Dirac Function\n",
    "MEAN = 0\n",
    "SIGMA = 1e-6\n",
    "\n",
    "\n",
    "def dirac_delta_approx(x, mean=MEAN, sigma=SIGMA):\n",
    "    return 1 / (np.sqrt(2 * np.pi) * sigma) * np.exp(-(x-mean)**2 / (2 * sigma**2))\n",
    "\n",
    "\n",
    "def dirac_delta_ring(x, y, x0=xmax*0.5, y0=ymax*0.5, r0=np.min(xmax, ymax)*0.25):\n",
    "    return dirac_delta_approx((x-x0)**2 + (y-y0)**2 - r0**2)\n",
    "\n",
    "\n",
    "# Plot dirac ring function\n",
    "x = np.linspace(-0.01, 0.01, 100)\n",
    "y = np.linspace(-0.01, 0.01, 100)\n",
    "x, y = np.meshgrid(x, y)\n",
    "delta = dirac_delta_ring(x, y, 0, 0, 0.005)\n",
    "\n",
    "plt.contourf(x, y, delta, cmap='viridis', levels=100)\n",
    "plt.title('Representation of Dirac Delta Ring Function with narrow Gaussian')\n",
    "plt.xlabel('X-axis')\n",
    "plt.ylabel('Y-axis')\n",
    "plt.colorbar()\n",
    "plt.show()"
   ]
  },
  {
   "cell_type": "code",
   "execution_count": null,
   "metadata": {},
   "outputs": [],
   "source": [
    "# Неоднородность в уравнении\n",
    "ro = 1\n",
    "g = 9.8\n",
    "M = 0.000001\n",
    "\n",
    "\n",
    "def f(x, y):\n",
    "    return ro * g + M * g / 2 / np.pi * dirac_delta_ring(x, y)\n",
    "\n",
    "# Граничные условия\n",
    "\n",
    "\n",
    "def phi_L(y):\n",
    "    return 0\n",
    "\n",
    "\n",
    "def phi_R(y):\n",
    "    return 0\n",
    "\n",
    "\n",
    "def phi_B(x):\n",
    "    return 0\n",
    "\n",
    "\n",
    "def phi_T(x):\n",
    "    return 0"
   ]
  },
  {
   "cell_type": "code",
   "execution_count": null,
   "metadata": {},
   "outputs": [
    {
     "name": "stdout",
     "output_type": "stream",
     "text": [
      "[[     0      1      2 ...    498    499    500]\n",
      " [   501    502    503 ...    999   1000   1001]\n",
      " [  1002   1003   1004 ...   1500   1501   1502]\n",
      " ...\n",
      " [249498 249499 249500 ... 249996 249997 249998]\n",
      " [249999 250000 250001 ... 250497 250498 250499]\n",
      " [250500 250501 250502 ... 250998 250999 251000]]\n"
     ]
    }
   ],
   "source": [
    "# Характерное разбиение\n",
    "h0 = 0.002\n",
    "lx = xmax - xmin\n",
    "ly = ymax - ymin\n",
    "\n",
    "nx = int(np.round(lx / h0)) + 1\n",
    "ny = int(np.round(ly / h0)) + 1\n",
    "\n",
    "beg_1 = time.time()\n",
    "\n",
    "# Узлы сетки\n",
    "x, hx = np.linspace(xmin, xmax, nx, retstep=True)\n",
    "y, hy = np.linspace(ymin, ymax, ny, retstep=True)\n",
    "X, Y = np.meshgrid(x, y, indexing='ij')\n",
    "\n",
    "N = np.arange(0, X.size, dtype=int).reshape((nx, ny))\n",
    "print(N)\n",
    "print(N.shape)"
   ]
  }
 ],
 "metadata": {
  "kernelspec": {
   "display_name": ".venv",
   "language": "python",
   "name": "python3"
  },
  "language_info": {
   "codemirror_mode": {
    "name": "ipython",
    "version": 3
   },
   "file_extension": ".py",
   "mimetype": "text/x-python",
   "name": "python",
   "nbconvert_exporter": "python",
   "pygments_lexer": "ipython3",
   "version": "3.8.18"
  }
 },
 "nbformat": 4,
 "nbformat_minor": 2
}
