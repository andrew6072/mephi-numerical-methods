{
 "cells": [
  {
   "cell_type": "code",
   "execution_count": 1,
   "metadata": {},
   "outputs": [],
   "source": [
    "import numpy as np\n",
    "from matplotlib import pyplot as plt\n",
    "from matplotlib.animation import FuncAnimation\n",
    "\n",
    "from enum import Enum\n",
    "\n",
    "speed = 1\n",
    "x_min = 0.0\n",
    "x_max = 4.5\n",
    "t_max = (x_max - 1.5) / speed\n",
    "\n",
    "\n",
    "def step_func(x, x0=0.5, eps=0.45):\n",
    "    xi = np.abs((x - x0) / eps)\n",
    "    return np.heaviside(1.0 - xi, 0.0)\n",
    "\n",
    "\n",
    "def parabola(x, x0=0.5, eps=0.45):\n",
    "    xi = np.abs((x - x0) / eps)\n",
    "    return (1.0 - xi ** 2) * np.heaviside(1.0 - xi, 0.0)\n",
    "\n",
    "\n",
    "def exp_func(x, x0=0.5, eps=0.45):\n",
    "    xi = np.abs((x - x0) / eps)\n",
    "    return np.exp(-xi ** 2 / (np.abs(1.0 - xi ** 2) + 1e-10)) * np.heaviside(1.0 - xi, 0.0)\n",
    "\n",
    "\n",
    "def sin_func(x, x0=0.5, eps=0.45):\n",
    "    xi = np.abs((x - x0) / eps)\n",
    "    return np.cos(0.5 * np.pi * xi) ** 3 * np.heaviside(1.0 - xi, 0.0)\n",
    "\n",
    "\n",
    "x0 = 0.5\n",
    "t0 = 0.8\n",
    "eps = 0.45\n",
    "\n",
    "case = 3\n",
    "\n",
    "if case == 1:\n",
    "    phi = lambda x: step_func(x, x0=x0, eps=eps)\n",
    "    mu = lambda t: step_func(t, x0=t0, eps=eps)\n",
    "elif case == 2:\n",
    "    phi = lambda x: parabola(x, x0=x0, eps=eps)\n",
    "    mu = lambda t: parabola(t, x0=t0, eps=eps)\n",
    "elif case == 3:\n",
    "    phi = lambda x: exp_func(x, x0=x0, eps=eps)\n",
    "    mu = lambda t: exp_func(t, x0=t0, eps=eps)\n",
    "elif case == 4:\n",
    "    phi = lambda x: sin_func(x, x0=x0, eps=eps)\n",
    "    mu = lambda t: sin_func(t, x0=t0, eps=eps)"
   ]
  },
  {
   "cell_type": "code",
   "execution_count": null,
   "metadata": {},
   "outputs": [],
   "source": [
    "from celluloid import Camera\n"
   ]
  }
 ],
 "metadata": {
  "kernelspec": {
   "display_name": "Python 3",
   "language": "python",
   "name": "python3"
  },
  "language_info": {
   "codemirror_mode": {
    "name": "ipython",
    "version": 3
   },
   "file_extension": ".py",
   "mimetype": "text/x-python",
   "name": "python",
   "nbconvert_exporter": "python",
   "pygments_lexer": "ipython3",
   "version": "3.11.0"
  },
  "orig_nbformat": 4
 },
 "nbformat": 4,
 "nbformat_minor": 2
}
