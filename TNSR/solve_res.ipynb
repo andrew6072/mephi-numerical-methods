{
 "cells": [
  {
   "cell_type": "code",
   "execution_count": 5,
   "metadata": {},
   "outputs": [],
   "source": [
    "from sympy import *"
   ]
  },
  {
   "cell_type": "code",
   "execution_count": 6,
   "metadata": {},
   "outputs": [],
   "source": [
    "s, z, T = symbols('s z T')"
   ]
  },
  {
   "cell_type": "code",
   "execution_count": 10,
   "metadata": {},
   "outputs": [],
   "source": [
    "def calc_reseduce(f, points):\n",
    "    sum = 0\n",
    "    for p, m in points:\n",
    "        if m == 1:\n",
    "            res = limit(f * (s - p), s ,p)\n",
    "            display(res)\n",
    "            sum += res\n",
    "        if m == 2:\n",
    "            res = simplify(limit(diff(simplify(f * (s - p)**2), s), s, p))\n",
    "            display(res)\n",
    "            sum += res\n",
    "\n",
    "    return sum"
   ]
  },
  {
   "cell_type": "code",
   "execution_count": 11,
   "metadata": {},
   "outputs": [
    {
     "data": {
      "text/plain": [
       "[-2 - 4*sqrt(6)*I, -2 + 4*sqrt(6)*I]"
      ]
     },
     "execution_count": 11,
     "metadata": {},
     "output_type": "execute_result"
    }
   ],
   "source": [
    "roots = solve(s * s + 4*s + 100, s)\n",
    "roots"
   ]
  },
  {
   "cell_type": "code",
   "execution_count": 13,
   "metadata": {},
   "outputs": [
    {
     "data": {
      "text/latex": [
       "$\\displaystyle \\frac{z}{z - 1}$"
      ],
      "text/plain": [
       "z/(z - 1)"
      ]
     },
     "metadata": {},
     "output_type": "display_data"
    },
    {
     "data": {
      "text/latex": [
       "$\\displaystyle - \\frac{35 z e^{\\frac{10 T}{7}}}{59 z e^{\\frac{10 T}{7}} - 59}$"
      ],
      "text/plain": [
       "-35*z*exp(10*T/7)/(59*z*exp(10*T/7) - 59)"
      ]
     },
     "metadata": {},
     "output_type": "display_data"
    },
    {
     "data": {
      "text/latex": [
       "$\\displaystyle - \\frac{35 z e^{\\frac{10 T}{7}}}{59 z e^{\\frac{10 T}{7}} - 59} + \\frac{z}{z - 1}$"
      ],
      "text/plain": [
       "-35*z*exp(10*T/7)/(59*z*exp(10*T/7) - 59) + z/(z - 1)"
      ]
     },
     "execution_count": 13,
     "metadata": {},
     "output_type": "execute_result"
    }
   ],
   "source": [
    "f = (300*s/7 + 1000/7) / s / (s + 10/7) / (s * s + 4*s + 100) * z / (z - exp(s * T))\n",
    "points = [[0, 1], [-S(10)/7, 1]]\n",
    "sum = calc_reseduce(f, points)\n",
    "sum"
   ]
  },
  {
   "cell_type": "code",
   "execution_count": 16,
   "metadata": {},
   "outputs": [
    {
     "data": {
      "text/latex": [
       "$\\displaystyle \\frac{\\sqrt{6} i z \\left(400.0 - 1200 \\sqrt{6} i\\right)}{336 \\left(-2 - 4 \\sqrt{6} i\\right) \\left(-0.571428571428571 - 4 \\sqrt{6} i\\right) \\left(z - e^{T \\left(-2 - 4 \\sqrt{6} i\\right)}\\right)}$"
      ],
      "text/plain": [
       "sqrt(6)*I*z*(400.0 - 1200*sqrt(6)*I)/(336*(-2 - 4*sqrt(6)*I)*(-0.571428571428571 - 4*sqrt(6)*I)*(z - exp(T*(-2 - 4*sqrt(6)*I))))"
      ]
     },
     "execution_count": 16,
     "metadata": {},
     "output_type": "execute_result"
    }
   ],
   "source": [
    "c_sum = simplify((300*s/7 + 1000/7) / s / (s + 10/7) / (s - roots[1]) * z / (z - exp(s * T))).subs({s: roots[0]})\n",
    "c_sum"
   ]
  },
  {
   "cell_type": "code",
   "execution_count": 18,
   "metadata": {},
   "outputs": [
    {
     "data": {
      "text/latex": [
       "$\\displaystyle - \\frac{\\sqrt{6} i z \\left(400.0 + 1200 \\sqrt{6} i\\right)}{336 \\left(-2 + 4 \\sqrt{6} i\\right) \\left(-0.571428571428571 + 4 \\sqrt{6} i\\right) \\left(z - e^{T \\left(-2 + 4 \\sqrt{6} i\\right)}\\right)}$"
      ],
      "text/plain": [
       "-sqrt(6)*I*z*(400.0 + 1200*sqrt(6)*I)/(336*(-2 + 4*sqrt(6)*I)*(-0.571428571428571 + 4*sqrt(6)*I)*(z - exp(T*(-2 + 4*sqrt(6)*I))))"
      ]
     },
     "execution_count": 18,
     "metadata": {},
     "output_type": "execute_result"
    }
   ],
   "source": [
    "simplify((300*s/7 + 1000/7) / s / (s + 10/7) / (s - roots[0]) * z / (z - exp(s * T))).subs({s: roots[1]})"
   ]
  },
  {
   "cell_type": "code",
   "execution_count": 20,
   "metadata": {},
   "outputs": [
    {
     "data": {
      "text/latex": [
       "$\\displaystyle \\frac{6.17937853107345 \\cdot 10^{-7} z \\left(- 658285.714285714 z e^{2 T \\left(1 + 2 \\sqrt{6} i\\right)} + 329142.857142857 e^{8 \\sqrt{6} i T} + 56000.0 \\sqrt{6} i e^{8 \\sqrt{6} i T} + 329142.857142857 - 56000.0 \\sqrt{6} i\\right) e^{2 T}}{z^{2} e^{4 T \\left(1 + \\sqrt{6} i\\right)} - z e^{2 T} - z e^{2 T \\left(1 + 4 \\sqrt{6} i\\right)} + e^{4 \\sqrt{6} i T}}$"
      ],
      "text/plain": [
       "6.17937853107345e-7*z*(-658285.714285714*z*exp(2*T*(1 + 2*sqrt(6)*I)) + 329142.857142857*exp(8*sqrt(6)*I*T) + 56000.0*sqrt(6)*I*exp(8*sqrt(6)*I*T) + 329142.857142857 - 56000.0*sqrt(6)*I)*exp(2*T)/(z**2*exp(4*T*(1 + sqrt(6)*I)) - z*exp(2*T) - z*exp(2*T*(1 + 4*sqrt(6)*I)) + exp(4*sqrt(6)*I*T))"
      ]
     },
     "execution_count": 20,
     "metadata": {},
     "output_type": "execute_result"
    }
   ],
   "source": [
    "c_sum += simplify((300*s/7 + 1000/7) / s / (s + 10/7) / (s - roots[0]) * z / (z - exp(s * T))).subs({s: roots[1]})\n",
    "c_sum = simplify(c_sum)\n",
    "c_sum"
   ]
  },
  {
   "cell_type": "code",
   "execution_count": 21,
   "metadata": {},
   "outputs": [
    {
     "data": {
      "text/latex": [
       "$\\displaystyle \\frac{6.17937853107345 \\cdot 10^{-7} z \\left(- 658285.714285714 z e^{2 T \\left(1 + 2 \\sqrt{6} i\\right)} + 329142.857142857 e^{8 \\sqrt{6} i T} + 56000.0 \\sqrt{6} i e^{8 \\sqrt{6} i T} + 329142.857142857 - 56000.0 \\sqrt{6} i\\right) e^{2 T}}{z^{2} e^{4 T \\left(1 + \\sqrt{6} i\\right)} - z e^{2 T} - z e^{2 T \\left(1 + 4 \\sqrt{6} i\\right)} + e^{4 \\sqrt{6} i T}}$"
      ],
      "text/plain": [
       "6.17937853107345e-7*z*(-658285.714285714*z*exp(2*T*(1 + 2*sqrt(6)*I)) + 329142.857142857*exp(8*sqrt(6)*I*T) + 56000.0*sqrt(6)*I*exp(8*sqrt(6)*I*T) + 329142.857142857 - 56000.0*sqrt(6)*I)*exp(2*T)/(z**2*exp(4*T*(1 + sqrt(6)*I)) - z*exp(2*T) - z*exp(2*T*(1 + 4*sqrt(6)*I)) + exp(4*sqrt(6)*I*T))"
      ]
     },
     "execution_count": 21,
     "metadata": {},
     "output_type": "execute_result"
    }
   ],
   "source": [
    "c_sum"
   ]
  },
  {
   "cell_type": "code",
   "execution_count": 22,
   "metadata": {},
   "outputs": [
    {
     "data": {
      "text/latex": [
       "$\\displaystyle \\frac{6.17937853107345 \\cdot 10^{-7} z \\left(- 658285.714285714 z e^{2 T \\left(1 + 2 \\sqrt{6} i\\right)} + 329142.857142857 e^{8 \\sqrt{6} i T} + 56000.0 \\sqrt{6} i e^{8 \\sqrt{6} i T} + 329142.857142857 - 56000.0 \\sqrt{6} i\\right) e^{2 T}}{z^{2} e^{4 T \\left(1 + \\sqrt{6} i\\right)} - z e^{2 T} - z e^{2 T \\left(1 + 4 \\sqrt{6} i\\right)} + e^{4 \\sqrt{6} i T}} - \\frac{35 z e^{\\frac{10 T}{7}}}{59 z e^{\\frac{10 T}{7}} - 59} + \\frac{z}{z - 1}$"
      ],
      "text/plain": [
       "6.17937853107345e-7*z*(-658285.714285714*z*exp(2*T*(1 + 2*sqrt(6)*I)) + 329142.857142857*exp(8*sqrt(6)*I*T) + 56000.0*sqrt(6)*I*exp(8*sqrt(6)*I*T) + 329142.857142857 - 56000.0*sqrt(6)*I)*exp(2*T)/(z**2*exp(4*T*(1 + sqrt(6)*I)) - z*exp(2*T) - z*exp(2*T*(1 + 4*sqrt(6)*I)) + exp(4*sqrt(6)*I*T)) - 35*z*exp(10*T/7)/(59*z*exp(10*T/7) - 59) + z/(z - 1)"
      ]
     },
     "execution_count": 22,
     "metadata": {},
     "output_type": "execute_result"
    }
   ],
   "source": [
    "big_sum = sum + c_sum\n",
    "big_sum"
   ]
  },
  {
   "cell_type": "code",
   "execution_count": 23,
   "metadata": {},
   "outputs": [
    {
     "name": "stdout",
     "output_type": "stream",
     "text": [
      "6.17937853107345e-7*z*(-658285.714285714*z*exp(2*T*(1 + 2*sqrt(6)*I)) + 329142.857142857*exp(8*sqrt(6)*I*T) + 56000.0*sqrt(6)*I*exp(8*sqrt(6)*I*T) + 329142.857142857 - 56000.0*sqrt(6)*I)*exp(2*T)/(z**2*exp(4*T*(1 + sqrt(6)*I)) - z*exp(2*T) - z*exp(2*T*(1 + 4*sqrt(6)*I)) + exp(4*sqrt(6)*I*T)) - 35*z*exp(10*T/7)/(59*z*exp(10*T/7) - 59) + z/(z - 1)\n"
     ]
    }
   ],
   "source": [
    "print(big_sum)"
   ]
  },
  {
   "cell_type": "code",
   "execution_count": 24,
   "metadata": {},
   "outputs": [
    {
     "data": {
      "text/latex": [
       "$\\displaystyle \\frac{z \\left(- z^{3} \\cdot \\left(1.4210854715202 \\cdot 10^{-14} + 3.5527136788005 \\cdot 10^{-15} i\\right) + z^{2} \\cdot \\left(4.88960417321898 + 3.25885288286362 i\\right) + z \\left(0.677019173754751 + 0.45122382262123 i\\right) - 3.83185808020154 - 2.55387988659382 i\\right)}{z^{4} \\cdot \\left(67.9976200374626 + 45.3194639559278 i\\right) - z^{3} \\cdot \\left(230.777415424558 + 153.809923853413 i\\right) + z^{2} \\cdot \\left(308.391796035872 + 205.538824403729 i\\right) - z \\left(194.707060681148 + 129.76953625204 i\\right) + 49.0950600323714 + 32.7211717457956 i}$"
      ],
      "text/plain": [
       "z*(-z**3*(1.4210854715202e-14 + 3.5527136788005e-15*I) + z**2*(4.88960417321898 + 3.25885288286362*I) + z*(0.677019173754751 + 0.45122382262123*I) - 3.83185808020154 - 2.55387988659382*I)/(z**4*(67.9976200374626 + 45.3194639559278*I) - z**3*(230.777415424558 + 153.809923853413*I) + z**2*(308.391796035872 + 205.538824403729*I) - z*(194.707060681148 + 129.76953625204*I) + 49.0950600323714 + 32.7211717457956*I)"
      ]
     },
     "execution_count": 24,
     "metadata": {},
     "output_type": "execute_result"
    }
   ],
   "source": [
    "bad_eq = simplify(expand(big_sum.subs({T: 0.06})).evalf())\n",
    "bad_eq"
   ]
  },
  {
   "cell_type": "code",
   "execution_count": 25,
   "metadata": {},
   "outputs": [
    {
     "name": "stdout",
     "output_type": "stream",
     "text": [
      "z*(-z**3*(1.4210854715202e-14 + 3.5527136788005e-15*I) + z**2*(4.88960417321898 + 3.25885288286362*I) + z*(0.677019173754751 + 0.45122382262123*I) - 3.83185808020154 - 2.55387988659382*I)/(z**4*(67.9976200374626 + 45.3194639559278*I) - z**3*(230.777415424558 + 153.809923853413*I) + z**2*(308.391796035872 + 205.538824403729*I) - z*(194.707060681148 + 129.76953625204*I) + 49.0950600323714 + 32.7211717457956*I)\n"
     ]
    }
   ],
   "source": [
    "print(bad_eq)"
   ]
  },
  {
   "cell_type": "code",
   "execution_count": 26,
   "metadata": {},
   "outputs": [
    {
     "name": "stdout",
     "output_type": "stream",
     "text": [
      "(z**4*(67.9976200374626 + 45.3194639559278*I) - z**3*(230.777415424558 + 153.809923853413*I) + z**2*(308.391796035872 + 205.538824403729*I) - z*(194.707060681148 + 129.76953625204*I) + 49.0950600323714 + 32.7211717457956*I)\n"
     ]
    }
   ],
   "source": [
    "print(str(bad_eq).split('/')[1])"
   ]
  },
  {
   "cell_type": "code",
   "execution_count": 27,
   "metadata": {},
   "outputs": [
    {
     "data": {
      "text/plain": [
       "[0.818730753078244 - 3.34680807605158e-14*I,\n",
       " 0.927532240764592 + 0.285391793726782*I,\n",
       " 0.927532240764612 - 0.285391793726847*I,\n",
       " 0.999999999999504 + 1.00040549725437e-13*I]"
      ]
     },
     "execution_count": 27,
     "metadata": {},
     "output_type": "execute_result"
    }
   ],
   "source": [
    "denom = (z**4*(2413.4614472979 + 742.596387773412*I) - z**3*(8866.56316399062 + 2728.1470706383*I) + z**2*(12391.5753506695 + 3812.75578465596*I) - z*(7799.37691019157 + 2399.78522419576*I) + 1860.90327621481 + 572.58012240469*I)\n",
    "\n",
    "solve(denom, z)"
   ]
  },
  {
   "cell_type": "code",
   "execution_count": 28,
   "metadata": {},
   "outputs": [
    {
     "data": {
      "text/plain": [
       "0.9417037020999999"
      ]
     },
     "execution_count": 28,
     "metadata": {},
     "output_type": "execute_result"
    }
   ],
   "source": [
    "0.9275 ** 2 + 0.28539 ** 2"
   ]
  }
 ],
 "metadata": {
  "kernelspec": {
   "display_name": "Python 3",
   "language": "python",
   "name": "python3"
  },
  "language_info": {
   "codemirror_mode": {
    "name": "ipython",
    "version": 3
   },
   "file_extension": ".py",
   "mimetype": "text/x-python",
   "name": "python",
   "nbconvert_exporter": "python",
   "pygments_lexer": "ipython3",
   "version": "3.11.1"
  }
 },
 "nbformat": 4,
 "nbformat_minor": 2
}
